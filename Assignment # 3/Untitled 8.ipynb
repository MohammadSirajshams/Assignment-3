{
 "cells": [
  {
   "cell_type": "code",
   "execution_count": 1,
   "id": "74d64966",
   "metadata": {},
   "outputs": [
    {
     "name": "stdout",
     "output_type": "stream",
     "text": [
      "Enter the Radius:300.56\n",
      "The Area of the Circle is: 283836.6973312\n"
     ]
    }
   ],
   "source": [
    "# 4. Write a Python program which accepts the radius of a circle from the user and compute the area.\n",
    "\n",
    "Radius=float(input(\"Enter the Radius:\"));\n",
    "Area=3.142*Radius**2;\n",
    "print(\"The Area of the Circle is:\",Area);"
   ]
  },
  {
   "cell_type": "code",
   "execution_count": 6,
   "id": "25facee4",
   "metadata": {},
   "outputs": [
    {
     "name": "stdout",
     "output_type": "stream",
     "text": [
      "Enter Your First Name:Mohammad\n",
      "Enter Your Last Name:Siraj\n",
      "Your Name is:Siraj Mohammad\n"
     ]
    }
   ],
   "source": [
    "#  5. Write a Python program which accepts the user's first and last name and print them in reverse order with a space between them.\n",
    "\n",
    "a=input(\"Enter Your First Name:\");\n",
    "b=input(\"Enter Your Last Name:\");\n",
    "print(\"Your Name is:\"+b,a)"
   ]
  },
  {
   "cell_type": "code",
   "execution_count": 7,
   "id": "cfca0beb",
   "metadata": {},
   "outputs": [
    {
     "name": "stdout",
     "output_type": "stream",
     "text": [
      "Enter First Number:43\n",
      "Enter Second Number:64\n",
      "Your Sum is: 107\n"
     ]
    }
   ],
   "source": [
    "# 6. Write a python program which takes two inputs from user and print them addition.\n",
    "\n",
    "num1=int(input(\"Enter First Number:\"));\n",
    "num2=int(input(\"Enter Second Number:\"));\n",
    "sum=num1+num2;\n",
    "print(\"Your Sum is:\",sum);"
   ]
  },
  {
   "cell_type": "code",
   "execution_count": 7,
   "id": "71047ded",
   "metadata": {},
   "outputs": [
    {
     "name": "stdout",
     "output_type": "stream",
     "text": [
      "Enter a Number:7\n",
      "7 Number is odd\n"
     ]
    }
   ],
   "source": [
    "# 8. Write a program which take input from user and identify that the given number is even or odd?\n",
    "\n",
    "a=int(input(\"Enter a Number:\"));\n",
    "if(a%2==0):\n",
    "    print(a,\"Number is Even\");\n",
    "else:\n",
    "    print(a,\"Number is odd\");\n"
   ]
  },
  {
   "cell_type": "code",
   "execution_count": 2,
   "id": "48e4025d",
   "metadata": {},
   "outputs": [
    {
     "name": "stdout",
     "output_type": "stream",
     "text": [
      "Twinkle,twinkle,little star,\n",
      "\tHow I wonder what you are!\n",
      "\t\tUp above the world so high,\n",
      "\t\tLike a diamond in the sky.Twinkle,\n",
      "Twinkle,little star,\n",
      "\tHow I wonder what you are\n"
     ]
    }
   ],
   "source": [
    "\"\"\"1. Write a Python program to print the following string in a specific format (see the \n",
    "output). \n",
    "Twinkle, twinkle, little star, \n",
    "         How I wonder what you are! \n",
    "                Up above the world so high, \n",
    "                Like a diamond in the sky. \n",
    "Twinkle, twinkle, little star,\n",
    "        How I wonder what you are\n",
    "\"\"\"\n",
    "\n",
    "print(\"Twinkle,twinkle,little star,\"\"\\n\\t\"\"How I wonder what you are!\"\"\\n\\t\\t\"\"Up above the world so high,\"\"\\n\\t\\tLike a diamond in the sky.Twinkle,\"\"\\n\"\"Twinkle,little star,\"\"\\n\\t\"\"How I wonder what you are\")"
   ]
  },
  {
   "cell_type": "code",
   "execution_count": 10,
   "id": "4065b27c",
   "metadata": {},
   "outputs": [
    {
     "name": "stdout",
     "output_type": "stream",
     "text": [
      "['Ali', 'Lion', 23, 3, 8, True, 5.5]\n",
      "Length of the List is: 7\n"
     ]
    }
   ],
   "source": [
    "# 9. Write a program which print the length of the list? \n",
    "\n",
    "arr=[\"Ali\",\"Lion\",23,3,8,True,5.5]\n",
    "print(arr);\n",
    "print(\"Length of the List is:\",len(arr));"
   ]
  },
  {
   "cell_type": "code",
   "execution_count": 5,
   "id": "04bc822a",
   "metadata": {},
   "outputs": [
    {
     "name": "stdout",
     "output_type": "stream",
     "text": [
      "[12, 43, 21, 37, 86, 78, 50]\n",
      "The Sum of all Numeric Items is: 327\n"
     ]
    }
   ],
   "source": [
    "# 10.Write a Python program to sum all the numeric items in a list?\n",
    "\n",
    "arr=[1,43,21,37,86,78,50]\n",
    "print(arr);\n",
    "print(\"The Sum of all Numeric Items is:\",sum(arr));"
   ]
  },
  {
   "cell_type": "code",
   "execution_count": 26,
   "id": "faae989b",
   "metadata": {},
   "outputs": [
    {
     "name": "stdout",
     "output_type": "stream",
     "text": [
      "[54, 87, 200, 5, 6, 90, 44, 43]\n",
      "The Largest Number in the list is: 200\n"
     ]
    }
   ],
   "source": [
    "# 11.Write a Python program to get the largest number from a numeric list.\n",
    "\n",
    "arr=[54,87,200,5,6,90,44,43]\n",
    "print(arr);\n",
    "print(\"The Largest Number in the list is:\",max(arr))"
   ]
  },
  {
   "cell_type": "code",
   "execution_count": 3,
   "id": "3e2b4874",
   "metadata": {},
   "outputs": [
    {
     "name": "stdout",
     "output_type": "stream",
     "text": [
      "[4, 3, 1, 0, 2, -1, -2]\n"
     ]
    }
   ],
   "source": [
    "\"\"\"12. Take a list, say for example this one: \n",
    " \n",
    "a = [1, 1, 2, 3, 5, 8, 13, 21, 34, 55, 89] \n",
    " Write a program that prints out all the elements of the list that are less than 5.\"\"\"\n",
    "\n",
    "arr=[4,3,65,1,0,90,2,-1,-2,100]\n",
    "print([x for x in arr if x<5]);"
   ]
  },
  {
   "cell_type": "code",
   "execution_count": 35,
   "id": "1b357c93",
   "metadata": {},
   "outputs": [
    {
     "name": "stdout",
     "output_type": "stream",
     "text": [
      "My Python Version is: 3.8.8 (default, Apr 13 2021, 15:08:03) [MSC v.1916 64 bit (AMD64)]\n",
      "My Python Version Info. is: sys.version_info(major=3, minor=8, micro=8, releaselevel='final', serial=0)\n"
     ]
    }
   ],
   "source": [
    "# 2. Write a Python program to get the Python version you are using.\n",
    "\n",
    "import sys\n",
    "print(\"My Python Version is:\",sys.version);\n",
    "print(\"My Python Version Info. is:\",sys.version_info);"
   ]
  },
  {
   "cell_type": "code",
   "execution_count": 1,
   "id": "1f079139",
   "metadata": {},
   "outputs": [
    {
     "name": "stdout",
     "output_type": "stream",
     "text": [
      "Current Date & Time is:\n",
      "24-October-2021  04:13 PM\n"
     ]
    }
   ],
   "source": [
    "# 3. Write a Python program to display the current date and time. \n",
    "\n",
    "import datetime\n",
    "a=datetime.datetime.now();\n",
    "print(\"Current Date & Time is:\");\n",
    "print(a.strftime(\"%d-%B-%Y  %I:%M %p\"));"
   ]
  },
  {
   "cell_type": "code",
   "execution_count": 9,
   "id": "e50e0c68",
   "metadata": {},
   "outputs": [
    {
     "name": "stdout",
     "output_type": "stream",
     "text": [
      "Enter Marks of Physics:87\n",
      "Enter Marks of Mathematics:98\n",
      "Enter Marks of Computer Science:90\n",
      "Enter Marks of Islamiat:87\n",
      "Enter Marks of English:81\n",
      "Your Percentage is: 88.6\n",
      "Your grade is A+\n"
     ]
    }
   ],
   "source": [
    "a=float(input(\"Enter Marks of Physics:\"));\n",
    "b=float(input(\"Enter Marks of Mathematics:\"));\n",
    "c=float(input(\"Enter Marks of Computer Science:\"));\n",
    "d=float(input(\"Enter Marks of Islamiat:\"));\n",
    "e=float(input(\"Enter Marks of English:\"));\n",
    "f=((a+b+c+d+e)/500)*100;\n",
    "print(\"Your Percentage is:\",f);\n",
    "\n",
    "if(f<=100 and f>=80):\n",
    "    print(\"Your grade is A+\");\n",
    "elif(f<80 and f>=70):\n",
    "    print(\"Your grade is A\");\n",
    "elif(f<70 and f>=60):\n",
    "    print(\"Your grade is B\");\n",
    "elif(f<60 and f>=50):\n",
    "    print(\"Your grade is C\");\n",
    "elif(f<50 and f>=40):\n",
    "    print(\"Your grade is D\");\n",
    "elif(f<40 and f>=33):\n",
    "    print(\"Your grade is E\");\n",
    "elif(f<33 and f>=0):\n",
    "    print(\"Your grade is Fail\");\n",
    "    \n",
    "else:\n",
    "    print(\"Invalid percentage\");"
   ]
  },
  {
   "cell_type": "code",
   "execution_count": null,
   "id": "a23da313",
   "metadata": {},
   "outputs": [],
   "source": []
  }
 ],
 "metadata": {
  "kernelspec": {
   "display_name": "Python 3",
   "language": "python",
   "name": "python3"
  },
  "language_info": {
   "codemirror_mode": {
    "name": "ipython",
    "version": 3
   },
   "file_extension": ".py",
   "mimetype": "text/x-python",
   "name": "python",
   "nbconvert_exporter": "python",
   "pygments_lexer": "ipython3",
   "version": "3.8.8"
  }
 },
 "nbformat": 4,
 "nbformat_minor": 5
}
