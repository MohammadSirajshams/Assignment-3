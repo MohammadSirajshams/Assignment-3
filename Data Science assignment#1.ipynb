{
 "cells": [
  {
   "cell_type": "code",
   "execution_count": 33,
   "id": "0d3bda68",
   "metadata": {},
   "outputs": [
    {
     "name": "stdout",
     "output_type": "stream",
     "text": [
      "Twinkle,twinkle,little star,\n",
      "\tHow I wonder what you are!\n",
      "\t\tUp above the world so high,\n",
      "\t\tLike a diamond in the sky.Twinkle,\n",
      "Twinkle,little star,\n",
      "\tHow I wonder what you are\n"
     ]
    }
   ],
   "source": [
    "\"\"\"1. Write a Python program to print the following string in a specific format (see the \n",
    "output). \n",
    "Twinkle, twinkle, little star, \n",
    "         How I wonder what you are! \n",
    "                Up above the world so high, \n",
    "                Like a diamond in the sky. \n",
    "Twinkle, twinkle, little star,\n",
    "        How I wonder what you are\n",
    "\"\"\"\n",
    "\n",
    "print(\"Twinkle,twinkle,little star,\"\"\\n\\t\"\"How I wonder what you are!\"\"\\n\\t\\t\"\"Up above the world so high,\"\"\\n\\t\\tLike a diamond in the sky.Twinkle,\"\"\\n\"\"Twinkle,little star,\"\"\\n\\t\"\"How I wonder what you are\")"
   ]
  },
  {
   "cell_type": "code",
   "execution_count": 34,
   "id": "6cc807d5",
   "metadata": {},
   "outputs": [
    {
     "name": "stdout",
     "output_type": "stream",
     "text": [
      "My Python Version is: 3.8.8 (default, Apr 13 2021, 15:08:03) [MSC v.1916 64 bit (AMD64)]\n",
      "My Python Version Info. is: sys.version_info(major=3, minor=8, micro=8, releaselevel='final', serial=0)\n"
     ]
    }
   ],
   "source": [
    "# 2. Write a Python program to get the Python version you are using.\n",
    "\n",
    "import sys\n",
    "print(\"My Python Version is:\",sys.version);\n",
    "print(\"My Python Version Info. is:\",sys.version_info);"
   ]
  },
  {
   "cell_type": "code",
   "execution_count": 35,
   "id": "ccd4c2f9",
   "metadata": {},
   "outputs": [
    {
     "name": "stdout",
     "output_type": "stream",
     "text": [
      "Current Date & Time is:\n",
      "01-January-2022  02:39 PM\n"
     ]
    }
   ],
   "source": [
    "# 3. Write a Python program to display the current date and time. \n",
    "\n",
    "import datetime\n",
    "a=datetime.datetime.now();\n",
    "print(\"Current Date & Time is:\");\n",
    "print(a.strftime(\"%d-%B-%Y  %I:%M %p\"));"
   ]
  },
  {
   "cell_type": "code",
   "execution_count": 36,
   "id": "1a84220f",
   "metadata": {},
   "outputs": [
    {
     "name": "stdout",
     "output_type": "stream",
     "text": [
      "Enter the Radius:94.5\n",
      "The Area of the Circle is: 28058.8455\n"
     ]
    }
   ],
   "source": [
    "# 4. Write a Python program which accepts the radius of a circle from the user and compute the area.\n",
    "\n",
    "Radius=float(input(\"Enter the Radius:\"));\n",
    "Area=3.142*Radius**2;\n",
    "print(\"The Area of the Circle is:\",Area);"
   ]
  },
  {
   "cell_type": "code",
   "execution_count": 37,
   "id": "2260c9ef",
   "metadata": {},
   "outputs": [
    {
     "name": "stdout",
     "output_type": "stream",
     "text": [
      "Enter Your First Name:Muhammad\n",
      "Enter Your Last Name:Siraj\n",
      "Your Name is:Siraj Muhammad\n"
     ]
    }
   ],
   "source": [
    "#  5. Write a Python program which accepts the user's first and last name and print them in reverse order with a space between them.\n",
    "\n",
    "a=input(\"Enter Your First Name:\");\n",
    "b=input(\"Enter Your Last Name:\");\n",
    "print(\"Your Name is:\"+b,a)"
   ]
  },
  {
   "cell_type": "code",
   "execution_count": 38,
   "id": "da42da22",
   "metadata": {},
   "outputs": [
    {
     "name": "stdout",
     "output_type": "stream",
     "text": [
      "Enter First Number:54\n",
      "Enter Second Number:65\n",
      "Your Sum is: 119\n"
     ]
    }
   ],
   "source": [
    "# 6. Write a python program which takes two inputs from user and print them addition.\n",
    "\n",
    "num1=int(input(\"Enter First Number:\"));\n",
    "num2=int(input(\"Enter Second Number:\"));\n",
    "sum=num1+num2;\n",
    "print(\"Your Sum is:\",sum);\n"
   ]
  },
  {
   "cell_type": "code",
   "execution_count": null,
   "id": "81b40a6b",
   "metadata": {},
   "outputs": [],
   "source": []
  }
 ],
 "metadata": {
  "kernelspec": {
   "display_name": "Python 3",
   "language": "python",
   "name": "python3"
  },
  "language_info": {
   "codemirror_mode": {
    "name": "ipython",
    "version": 3
   },
   "file_extension": ".py",
   "mimetype": "text/x-python",
   "name": "python",
   "nbconvert_exporter": "python",
   "pygments_lexer": "ipython3",
   "version": "3.8.8"
  }
 },
 "nbformat": 4,
 "nbformat_minor": 5
}
