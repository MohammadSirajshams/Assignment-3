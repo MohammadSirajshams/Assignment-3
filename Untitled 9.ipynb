{
 "cells": [
  {
   "cell_type": "code",
   "execution_count": 2,
   "id": "bf7c8b5b",
   "metadata": {},
   "outputs": [
    {
     "name": "stdout",
     "output_type": "stream",
     "text": [
      "Your Sum is: 21\n"
     ]
    }
   ],
   "source": [
    "# 4. Write a Python program to sum all the numeric items in a dictionary.\n",
    "\n",
    "a={1:4,2:1,3:7,4:9}\n",
    "print(\"Your Sum is:\",sum(a.values()))"
   ]
  },
  {
   "cell_type": "code",
   "execution_count": 6,
   "id": "017b2b36",
   "metadata": {},
   "outputs": [
    {
     "name": "stdout",
     "output_type": "stream",
     "text": [
      "2\n",
      "4\n",
      "5\n",
      "9\n",
      "4\n"
     ]
    }
   ],
   "source": [
    "# 2. Write a program to check if there is any numeric value in list using for loop.\n",
    "\n",
    "list=['siraj',2,4,5,'Bilal',9,4]\n",
    "for i in list:\n",
    "    if(type(i)==int):\n",
    "        print(i)"
   ]
  },
  {
   "cell_type": "code",
   "execution_count": 7,
   "id": "226b14db",
   "metadata": {},
   "outputs": [
    {
     "name": "stdout",
     "output_type": "stream",
     "text": [
      "Select an operation to perform\n",
      "\n",
      "Enter 1 For Addition\n",
      "Enter 2 For Subtraction\n",
      "Enter 3 For Multiplication\n",
      "Enter 4 For Division\n",
      "Enter 5 For Power\n",
      "5\n",
      "Enter Number:2\n",
      "Enter Power:3\n",
      "your Answer is: 8.0\n"
     ]
    }
   ],
   "source": [
    "# 1. Make a calculator using Python with addition , subtraction ,  multiplication ,division and power.\n",
    "\n",
    "print(\"Select an operation to perform\\n\")\n",
    "\n",
    "print(\"Enter 1 For Addition\")\n",
    "print(\"Enter 2 For Subtraction\")\n",
    "print(\"Enter 3 For Multiplication\")\n",
    "print(\"Enter 4 For Division\")\n",
    "print(\"Enter 5 For Power\")\n",
    "\n",
    "\n",
    "opr=int(input())\n",
    "\n",
    "if opr==1:\n",
    "    num1=float(input(\"Enter First Number:\"))\n",
    "    num2=float(input(\"Enter Second Number:\"))\n",
    "    sum=num1+num2;\n",
    "    print(\"your Answer is:\",sum)\n",
    "    \n",
    "elif opr==2:\n",
    "    num3=float(input(\"Enter First Number:\"))\n",
    "    num4=float(input(\"Enter Second Number:\"))\n",
    "    sub=num3-num4;\n",
    "    print(\"your Answer is:\",sub)\n",
    "\n",
    "    \n",
    "elif opr==3:\n",
    "    num5=float(input(\"Enter First Number:\"))\n",
    "    num6=float(input(\"Enter Second Number:\"))\n",
    "    mul=num5*num6;\n",
    "    print(\"your Answer is:\",mul)\n",
    "\n",
    "elif opr==4:\n",
    "    num7=float(input(\"Enter First Number:\"))\n",
    "    num8=float(input(\"Enter Second Number:\"))\n",
    "    div=num7/num8;\n",
    "    print(\"your Answer is:\",div)\n",
    "    \n",
    "elif opr==5:\n",
    "    num9=float(input(\"Enter Number:\"))\n",
    "    po=int(input(\"Enter Power:\"))\n",
    "    ans=(num9**po);\n",
    "    print(\"your Answer is:\",ans)\n",
    "else:\n",
    "    print(\"This operation is not Found\")\n",
    "\n",
    "\n",
    "\n"
   ]
  },
  {
   "cell_type": "code",
   "execution_count": 8,
   "id": "b89d453b",
   "metadata": {},
   "outputs": [
    {
     "name": "stdout",
     "output_type": "stream",
     "text": [
      "3 5 7 8 6 "
     ]
    }
   ],
   "source": [
    "# 5. Write a program to identify duplicate values from list.\n",
    "\n",
    "list=[9,2,3,5,7,8,3,5,6,7,8,6]\n",
    "list1=[]\n",
    "for i in list:\n",
    "    if i not in list1:\n",
    "        list1.append(i)\n",
    "    else:\n",
    "        print(i,end=' ')\n",
    "\n",
    "\n"
   ]
  },
  {
   "cell_type": "code",
   "execution_count": 9,
   "id": "2a7cc2dd",
   "metadata": {},
   "outputs": [
    {
     "name": "stdout",
     "output_type": "stream",
     "text": [
      "{1: 'Siraj', 2: '21', 3: 'Male', 4: '6 Foot', 5: '98'}\n"
     ]
    }
   ],
   "source": [
    "# 3. Write a Python script to add a key to a dictionary.\n",
    "\n",
    "a={1:'Siraj',2:'21',3:'Male',4:'5 foot'}\n",
    "a[5]='98'\n",
    "a[4]='6 Foot'\n",
    "print(a)\n"
   ]
  },
  {
   "cell_type": "code",
   "execution_count": 10,
   "id": "eb445cbf",
   "metadata": {},
   "outputs": [
    {
     "name": "stdout",
     "output_type": "stream",
     "text": [
      "The Given Dictionary is: {'Banana': 1, 'Apple': 2, 'Mango': 3, 'Grapes': 4}\n",
      "Enter key to check:Apple\n",
      "Key is present\n"
     ]
    }
   ],
   "source": [
    "# 6. Write a Python script to check if a given key already exists in a dictionary.\n",
    "\n",
    "a={'Banana':1,'Apple':2,'Mango':3,'Grapes':4}\n",
    "print(\"The Given Dictionary is:\",a)\n",
    "key=input(\"Enter key to check:\")\n",
    "if key in a.keys():\n",
    "    print(\"Key is present\")\n",
    "\n",
    "else:\n",
    "    print(\"Key is not present\")"
   ]
  }
 ],
 "metadata": {
  "kernelspec": {
   "display_name": "Python 3",
   "language": "python",
   "name": "python3"
  },
  "language_info": {
   "codemirror_mode": {
    "name": "ipython",
    "version": 3
   },
   "file_extension": ".py",
   "mimetype": "text/x-python",
   "name": "python",
   "nbconvert_exporter": "python",
   "pygments_lexer": "ipython3",
   "version": "3.8.8"
  }
 },
 "nbformat": 4,
 "nbformat_minor": 5
}
